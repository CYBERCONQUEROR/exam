{
 "cells": [
  {
   "cell_type": "code",
   "execution_count": 4,
   "id": "12b9f7f5",
   "metadata": {},
   "outputs": [
    {
     "name": "stdout",
     "output_type": "stream",
     "text": [
      "fsdfgnnb\n",
      "wrtytfuyg\n",
      "sterdytfkh\n",
      "dyrutfikl\n"
     ]
    }
   ],
   "source": [
    "with open ('hi.txt','r') as file:\n",
    "    content = file.read()\n",
    "print(content)"
   ]
  },
  {
   "cell_type": "code",
   "execution_count": 4,
   "id": "90a84afc",
   "metadata": {},
   "outputs": [],
   "source": [
    "with open ('hiu.txt','w+') as file:\n",
    "    file.write('hi\\n')\n",
    "    file.write('wedbjkas\\n')\n",
    "    file.write('dbisajk\\n')"
   ]
  },
  {
   "cell_type": "code",
   "execution_count": 9,
   "id": "1262cb42",
   "metadata": {},
   "outputs": [
    {
     "name": "stdout",
     "output_type": "stream",
     "text": [
      "Lines: 1, Words: 1, Characters: 8\n"
     ]
    }
   ],
   "source": [
    "with open ('hi.txt','r') as file:\n",
    "    lines=file.readlines()\n",
    "    line_count= len(lines)\n",
    "    word_count=sum(len(line.split()) for line in lines)\n",
    "    char_count=sum(len(line) for line in lines)\n",
    "print(f\"Lines: {line_count}, Words: {word_count}, Characters: {char_count}\")\n"
   ]
  },
  {
   "cell_type": "code",
   "execution_count": 14,
   "id": "4be3514d",
   "metadata": {},
   "outputs": [
    {
     "name": "stdout",
     "output_type": "stream",
     "text": [
      "2\n",
      "4\n",
      "6\n",
      "89\n",
      "11\n"
     ]
    }
   ],
   "source": [
    "line=['2\\n','4\\n','6\\n','89\\n','11']\n",
    "with open ('input.txt','w') as file:\n",
    "    file.writelines(line)\n",
    "with open ('input.txt','r') as file:\n",
    "    content = file.read()\n",
    "    lines = content.splitlines()\n",
    "print(content)\n",
    "for i in lines:\n",
    "    if i.strip():\n",
    "        num = int(i.strip())\n",
    "        if num % 2 == 0:\n",
    "            with open ('even.txt','a') as file:\n",
    "                file.write(f\"{num}\\n\")\n",
    "        else:\n",
    "            with open ('odd.txt','a') as file:\n",
    "                file.write(f\"{num}\\n\")\n",
    "\n",
    "\n"
   ]
  },
  {
   "cell_type": "code",
   "execution_count": 20,
   "id": "29449400",
   "metadata": {},
   "outputs": [
    {
     "name": "stdout",
     "output_type": "stream",
     "text": [
      "Letters: 0, Digits: 0\n"
     ]
    }
   ],
   "source": [
    "with open ('namo.txt','w') as file:\n",
    "    file.close\n",
    "letters=0\n",
    "digits=0\n",
    "with open ('namo.txt','r') as file:\n",
    "    content = file.read()\n",
    "    for char in content:\n",
    "        if char.isalpha():\n",
    "            letters += 1\n",
    "        elif char.isdigit():\n",
    "            digits += 1\n",
    "print(f\"Letters: {letters}, Digits: {digits}\")"
   ]
  },
  {
   "cell_type": "code",
   "execution_count": 51,
   "id": "42fd42df",
   "metadata": {},
   "outputs": [
    {
     "name": "stdout",
     "output_type": "stream",
     "text": [
      "[1, 9, 11]\n"
     ]
    }
   ],
   "source": [
    "l=[1,2,6,4,5,6,9,9,0,0,75,3,2,2,11,1,3]\n",
    "print(l[::7])"
   ]
  },
  {
   "cell_type": "code",
   "execution_count": 13,
   "id": "dce0b5f0",
   "metadata": {},
   "outputs": [
    {
     "data": {
      "text/plain": [
       "([<matplotlib.patches.Wedge at 0x25af6fb7d90>,\n",
       "  <matplotlib.patches.Wedge at 0x25af70602d0>,\n",
       "  <matplotlib.patches.Wedge at 0x25af70607d0>,\n",
       "  <matplotlib.patches.Wedge at 0x25af7060cd0>],\n",
       " [Text(0.18772138206616357, 1.1852260049101055, 'python'),\n",
       "  Text(-0.8899184718302892, -0.6465640830538323, 'java'),\n",
       "  Text(0.6465640158668551, -0.8899185206445168, 'c++'),\n",
       "  Text(1.0864571937328844, -0.17207779108898907, 'javascript')],\n",
       " [Text(0.1095041395385954, 0.6913818361975614, '45.0%'),\n",
       "  Text(-0.485410075543794, -0.352671318029363, '30.0%'),\n",
       "  Text(0.3526712813819209, -0.4854101021697364, '20.0%'),\n",
       "  Text(0.5926130147633915, -0.09386061332126676, '5.0%')])"
      ]
     },
     "execution_count": 13,
     "metadata": {},
     "output_type": "execute_result"
    },
    {
     "data": {
      "image/png": "[encoded data removed]",
      "text/plain": [
       "<Figure size 640x480 with 1 Axes>"
      ]
     },
     "metadata": {},
     "output_type": "display_data"
    }
   ],
   "source": [
    "import matplotlib.pyplot as plt\n",
    "Languages=['python','java','c++','javascript']\n",
    "Popularity=[45,30,20,5]\n",
    "colors=['red','blue','green','yellow']\n",
    "explode=[0.1,0,0,0]  # explode the 1st slice (Python)\n",
    "plt.pie(Popularity, labels=Languages, colors=colors, autopct='%1.1f%%',shadow=True, explode=explode)"
   ]
  },
  {
   "cell_type": "code",
   "execution_count": 19,
   "id": "41e3288b",
   "metadata": {},
   "outputs": [
    {
     "data": {
      "text/plain": [
       "{1, 2, 3, 4, 6, 7, 8}"
      ]
     },
     "execution_count": 19,
     "metadata": {},
     "output_type": "execute_result"
    }
   ],
   "source": [
    "t={1,2,3,4}\n",
    "t.update([6,7,8])\n",
    "t"
   ]
  },
  {
   "cell_type": "code",
   "execution_count": null,
   "id": "173e1129",
   "metadata": {},
   "outputs": [
    {
     "name": "stdout",
     "output_type": "stream",
     "text": [
      "153 is not an armstrong number\n",
      "Reverse of 153 is 0\n"
     ]
    }
   ],
   "source": [
    "n=int(input(\"Enter a number: \"))\n",
    "num=n\n",
    "rev=0\n",
    "while n>0:\n",
    "    d=n%10\n",
    "    # rev=rev*10+d;n=n//10;\n",
    "    arm=d*d*d;n=n//10\n",
    "    # if rev==num:\n",
    "    #     print(f\"{num} is a palindrome\")\n",
    "    #     break\n",
    "    if arm==num:\n",
    "        print(f\"{num} is an armstrong number\")\n",
    "        break\n",
    "    else:\n",
    "        print(f\"{num} is not an armstrong number\")\n",
    "        break\n",
    "print(f\"Reverse of {num} is {rev}\")\n"
   ]
  },
  {
   "cell_type": "code",
   "execution_count": 32,
   "id": "d9f48287",
   "metadata": {},
   "outputs": [
    {
     "name": "stdout",
     "output_type": "stream",
     "text": [
      "7 is not prime\n"
     ]
    }
   ],
   "source": [
    "n=int(input(\"Enter a number: \"))\n",
    "if n==1:\n",
    "    print(f\"{n} is not prime\")\n",
    "elif n%2==0:\n",
    "    print(f\"{n} is prime\")\n",
    "else:\n",
    "    print(f\"{n} is not prime\")"
   ]
  },
  {
   "cell_type": "code",
   "execution_count": null,
   "id": "b156b99d",
   "metadata": {},
   "outputs": [
    {
     "name": "stdout",
     "output_type": "stream",
     "text": [
      "0    1\n",
      "1    2\n",
      "2    3\n",
      "dtype: int64\n",
      "<class 'pandas.core.series.Series'>\n"
     ]
    }
   ],
   "source": [
    "\n",
    "import pandas as pd\n",
    "d=[1,2,3]\n",
    "s=pd.Series(d)\n",
    "print(s)\n",
    "print (type(s))"
   ]
  },
  {
   "cell_type": "code",
   "execution_count": 47,
   "id": "b48e5469",
   "metadata": {},
   "outputs": [
    {
     "data": {
      "text/plain": [
       "<matplotlib.collections.PathCollection at 0x25af96bbb10>"
      ]
     },
     "execution_count": 47,
     "metadata": {},
     "output_type": "execute_result"
    },
    {
     "data": {
      "image/png": "[encoded data removed]",
      "text/plain": [
       "<Figure size 640x480 with 1 Axes>"
      ]
     },
     "metadata": {},
     "output_type": "display_data"
    }
   ],
   "source": [
    "d=[1,2,3]\n",
    "# plt.hist(d, bins=3, color='blue', edgecolor='black')\n",
    "plt.scatter([1,2,3],[4,5,6], color='red', marker='+')"
   ]
  },
  {
   "cell_type": "code",
   "execution_count": 51,
   "id": "70a21762",
   "metadata": {},
   "outputs": [
    {
     "name": "stdout",
     "output_type": "stream",
     "text": [
      "{'h': 1, 'e': 1, 'l': 3, 'o': 2, ' ': 1, 'w': 1, 'r': 1, 'd': 1}\n"
     ]
    }
   ],
   "source": [
    "def char_frequency(s):\n",
    "    freq = {}\n",
    "    for char in s:\n",
    "        if char in freq:\n",
    "            freq[char] += 1\n",
    "        else:\n",
    "            freq[char] = 1\n",
    "    return freq\n",
    "print(char_frequency(\"hello world\"))"
   ]
  },
  {
   "cell_type": "code",
   "execution_count": 52,
   "id": "249b436f",
   "metadata": {},
   "outputs": [],
   "source": [
    "def reverse_file_with_commas(input_file, output_file):\n",
    "    # Step 1: Read the file content\n",
    "    with open(input_file, 'r') as file:\n",
    "        content = file.read()\n",
    "\n",
    "    # Step 2: Reverse the content and insert commas\n",
    "    reversed_content = ','.join(reversed(content))\n",
    "\n",
    "    # Step 3: Write the reversed content to a new file\n",
    "    with open(output_file, 'w') as file:\n",
    "        file.write(reversed_content)\n",
    "\n",
    "# Example usage:\n",
    "reverse_file_with_commas('input.txt', 'output.txt')\n"
   ]
  },
  {
   "cell_type": "code",
   "execution_count": 53,
   "id": "a98f610b",
   "metadata": {},
   "outputs": [
    {
     "name": "stdout",
     "output_type": "stream",
     "text": [
      "True\n",
      "False\n"
     ]
    }
   ],
   "source": [
    "import re\n",
    "\n",
    "def is_valid_email(email):\n",
    "    return bool(re.match(r'^[^\\s@]+@[^\\s@]+\\.[^\\s@]+$', email))\n",
    "\n",
    "# Example\n",
    "print(is_valid_email(\"test@example.com\"))       # True\n",
    "print(is_valid_email(\"hello world@gmail.com\"))  # False\n"
   ]
  },
  {
   "cell_type": "code",
   "execution_count": 56,
   "id": "5a49eb7b",
   "metadata": {},
   "outputs": [
    {
     "name": "stdout",
     "output_type": "stream",
     "text": [
      "banana\n"
     ]
    }
   ],
   "source": [
    "def find_longest_word(word_list):\n",
    "    return max(word_list, key=len)\n",
    "word_list = [\"apple\", \"banana\", \"cherry\", \"date\"]\n",
    "print(find_longest_word(word_list))  # Output: banana"
   ]
  },
  {
   "cell_type": "code",
   "execution_count": null,
   "id": "3aa004b9",
   "metadata": {},
   "outputs": [],
   "source": [
    "import csv\n",
    "\n",
    "def filter_rows_by_threshold(file_path, column_name, threshold):\n",
    "    with open(file_path, 'r') as file:\n",
    "        reader = csv.DictReader(file)\n",
    "        \n",
    "        print(f\"Rows where '{column_name}' > {threshold}:\\n\")\n",
    "        for row in reader:\n",
    "            try:\n",
    "                if float(row[column_name]) > threshold:\n",
    "                    print(row)\n",
    "            except ValueError:\n",
    "                pass  # skip rows with non-numeric values in the column\n",
    "\n",
    "# Example usage:\n",
    "filter_rows_by_threshold(\"data.csv\", \"Score\", 75)\n"
   ]
  },
  {
   "cell_type": "code",
   "execution_count": null,
   "id": "1c7d1d57",
   "metadata": {},
   "outputs": [],
   "source": [
    "import csv\n",
    "\n",
    "def calculate_average_marks(file_path):\n",
    "    with open(file_path, 'r') as file:\n",
    "        reader = csv.reader(file)\n",
    "        headers = next(reader)  # Skip the header row\n",
    "\n",
    "        print(\"Student Averages:\\n\")\n",
    "        for row in reader:\n",
    "            name = row[0]\n",
    "            marks = list(map(float, row[1:]))  # Convert all marks to float\n",
    "            average = sum(marks) / len(marks)\n",
    "            print(f\"{name}: {average:.2f}\")\n",
    "\n",
    "# Example usage:\n",
    "calculate_average_marks(\"students.csv\")\n"
   ]
  },
  {
   "cell_type": "code",
   "execution_count": 65,
   "id": "eb62c8ae",
   "metadata": {},
   "outputs": [
    {
     "name": "stdout",
     "output_type": "stream",
     "text": [
      "42\n"
     ]
    }
   ],
   "source": [
    "import numpy as np\n",
    "import random\n",
    "a = np.random.randint(10, 51)\n",
    "print(a)"
   ]
  },
  {
   "cell_type": "code",
   "execution_count": 66,
   "id": "7c18d61b",
   "metadata": {},
   "outputs": [
    {
     "name": "stdout",
     "output_type": "stream",
     "text": [
      "    Languages  Popularity\n",
      "0      python          45\n",
      "1        java          30\n",
      "2         c++          20\n",
      "3  javascript           5\n"
     ]
    }
   ],
   "source": [
    "data = {'Languages': Languages, 'Popularity': Popularity}\n",
    "df = pd.DataFrame(data)\n",
    "print(df)"
   ]
  },
  {
   "cell_type": "code",
   "execution_count": 67,
   "metadata": {},
   "outputs": [
    {
     "name": "stdout",
     "output_type": "stream",
     "text": [
      "600\n"
     ]
    }
   ],
   "source": [
    "d={'A':100, 'B':200, 'C':300}\n",
    "print(sum(d.values()))\n"
   ]
  },
  {
   "cell_type": "code",
   "execution_count": 73,
   "id": "198f1c86",
   "metadata": {},
   "outputs": [
    {
     "name": "stdout",
     "output_type": "stream",
     "text": [
      "Common letters: {'g', 'h', 'f'}\n"
     ]
    }
   ],
   "source": [
    "def common_letters(str1, str2):\n",
    "    return set(str1) & set(str2)\n",
    "\n",
    "# Example usage:\n",
    "result =input(\"Enter first string: \"),input(\"Enter second string: \")\n",
    "result = common_letters(result[0], result[1])\n",
    "print(f\"Common letters: {result}\")"
   ]
  },
  {
   "cell_type": "code",
   "execution_count": 74,
   "id": "3ffa272a",
   "metadata": {},
   "outputs": [
    {
     "name": "stdout",
     "output_type": "stream",
     "text": [
      "LCM of 12 and 18 is 36\n"
     ]
    }
   ],
   "source": [
    "from math import gcd\n",
    "\n",
    "def compute_lcm(x, y):\n",
    "    # Compute the least common multiple of x and y\n",
    "    return abs(x * y) // gcd(x, y)\n",
    "\n",
    "# Example usage:\n",
    "num1 = 12\n",
    "num2 = 18\n",
    "print(f\"LCM of {num1} and {num2} is {compute_lcm(num1, num2)}\")"
   ]
  },
  {
   "cell_type": "code",
   "execution_count": 75,
   "id": "186575c1",
   "metadata": {},
   "outputs": [
    {
     "name": "stdout",
     "output_type": "stream",
     "text": [
      "15\n"
     ]
    }
   ],
   "source": [
    "def list(list1):\n",
    "    return sum(list1)\n",
    "list1= [1, 2, 3, 4, 5]\n",
    "print(list(list1))  # Output: 15"
   ]
  },
  {
   "cell_type": "code",
   "execution_count": 1,
   "id": "b4729855",
   "metadata": {},
   "outputs": [
    {
     "name": "stdout",
     "output_type": "stream",
     "text": [
      "[1, 2, 3, 4, 5]\n"
     ]
    }
   ],
   "source": [
    "my_list = [1, 2, 2, 3, 4, 4, 5]\n",
    "unique_list = list(set(my_list))\n",
    "print(unique_list)  # Output: [1, 2, 3, 4, 5] (order may vary)\n"
   ]
  },
  {
   "cell_type": "code",
   "execution_count": 4,
   "id": "9ac9b1f1",
   "metadata": {},
   "outputs": [
    {
     "name": "stdout",
     "output_type": "stream",
     "text": [
      "[1, 2, 3, 4, 'hi']\n"
     ]
    }
   ],
   "source": [
    "l=[1,2,3,4,'hi','',[]]\n",
    "print(list(filter(bool,l)))"
   ]
  }
 ],
 "metadata": {
  "kernelspec": {
   "display_name": "base",
   "language": "python",
   "name": "python3"
  },
  "language_info": {
   "codemirror_mode": {
    "name": "ipython",
    "version": 3
   },
   "file_extension": ".py",
   "mimetype": "text/x-python",
   "name": "python",
   "nbconvert_exporter": "python",
   "pygments_lexer": "ipython3",
   "version": "3.13.5"
  }
 },
 "nbformat": 4,
 "nbformat_minor": 5
}
